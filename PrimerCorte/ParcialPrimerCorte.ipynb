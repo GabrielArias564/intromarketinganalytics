{
  "cells": [
    {
      "cell_type": "markdown",
      "metadata": {
        "id": "favnf6_vZHN1"
      },
      "source": [
        "# Análisis de Datos de Seguros - Enfoque Step-by-Step y Caso de Negocio\n",
        "\n",
        "Este notebook está diseñado para que resuelvas problemas paso a paso utilizando Python (usando funciones básicas como .mean(), filtros, value_counts y groupby) y que puedas comparar los resultados con el objetivo propuesto. Además, se plantea un caso de negocio ficticio en el que se asigna un gasto en marketing (CAC) para evaluar la rentabilidad y tomar decisiones estratégicas.\n",
        "\n",
        "El objetivo es evaluar tu habilidad para:\n",
        "- Explorar y analizar datos en Python.\n",
        "- Resolver problemas de análisis paso a paso.\n",
        "- Comparar resultados con objetivos estratégicos.\n",
        "- Formular conclusiones y recomendaciones basadas en los datos.\n",
        "\n",
        "¡Comencemos!"
      ]
    },
    {
      "cell_type": "code",
      "source": [
        "!wget https://github.com/javierherrera1996/IntroMarketingAnalytics/raw/refs/heads/main/PrimerCorte/WA_Fn-UseC_-Marketing-Customer-Value-Analysis.csv.zip\n",
        "!unzip WA_Fn-UseC_-Marketing-Customer-Value-Analysis.csv.zip"
      ],
      "metadata": {
        "colab": {
          "base_uri": "https://localhost:8080/"
        },
        "id": "-Uz11EAcZJMF",
        "outputId": "815241f6-7d51-4d49-b0e1-80e0dda3d886"
      },
      "execution_count": 1,
      "outputs": [
        {
          "output_type": "stream",
          "name": "stdout",
          "text": [
            "--2025-03-12 23:13:14--  https://github.com/javierherrera1996/IntroMarketingAnalytics/raw/refs/heads/main/PrimerCorte/WA_Fn-UseC_-Marketing-Customer-Value-Analysis.csv.zip\n",
            "Resolving github.com (github.com)... 140.82.116.3\n",
            "Connecting to github.com (github.com)|140.82.116.3|:443... connected.\n",
            "HTTP request sent, awaiting response... 302 Found\n",
            "Location: https://raw.githubusercontent.com/javierherrera1996/IntroMarketingAnalytics/refs/heads/main/PrimerCorte/WA_Fn-UseC_-Marketing-Customer-Value-Analysis.csv.zip [following]\n",
            "--2025-03-12 23:13:14--  https://raw.githubusercontent.com/javierherrera1996/IntroMarketingAnalytics/refs/heads/main/PrimerCorte/WA_Fn-UseC_-Marketing-Customer-Value-Analysis.csv.zip\n",
            "Resolving raw.githubusercontent.com (raw.githubusercontent.com)... 185.199.110.133, 185.199.111.133, 185.199.108.133, ...\n",
            "Connecting to raw.githubusercontent.com (raw.githubusercontent.com)|185.199.110.133|:443... connected.\n",
            "HTTP request sent, awaiting response... 200 OK\n",
            "Length: 352796 (345K) [application/zip]\n",
            "Saving to: ‘WA_Fn-UseC_-Marketing-Customer-Value-Analysis.csv.zip’\n",
            "\n",
            "WA_Fn-UseC_-Marketi 100%[===================>] 344.53K  --.-KB/s    in 0.03s   \n",
            "\n",
            "2025-03-12 23:13:14 (10.6 MB/s) - ‘WA_Fn-UseC_-Marketing-Customer-Value-Analysis.csv.zip’ saved [352796/352796]\n",
            "\n",
            "Archive:  WA_Fn-UseC_-Marketing-Customer-Value-Analysis.csv.zip\n",
            "  inflating: WA_Fn-UseC_-Marketing-Customer-Value-Analysis.csv  \n"
          ]
        }
      ]
    },
    {
      "cell_type": "markdown",
      "metadata": {
        "id": "rue7hNYKZHN4"
      },
      "source": [
        "## Paso 1: Exploración Inicial del Dataset\n",
        "1. Carga el dataset `WA_Fn-UseC_-Marketing-Customer-Value-Analysis.csv`.\n",
        "2. Revisa las primeras filas, dimensiones y la información general del dataset.\n",
        "\n",
        "_Observa la estructura de los datos: ¿Qué columnas tienes? ¿Se nota algún dato atípico?_"
      ]
    },
    {
      "cell_type": "code",
      "execution_count": 2,
      "metadata": {
        "id": "kFhepnyQZHN5"
      },
      "outputs": [],
      "source": [
        "# Cargar el dataset y ver primeras filas\n",
        "import pandas as pd\n",
        "import numpy as np\n",
        "\n",
        "df = pd.read_csv('WA_Fn-UseC_-Marketing-Customer-Value-Analysis.csv')\n",
        "pd.set_option('display.max_columns', None)\n"
      ]
    },
    {
      "cell_type": "code",
      "source": [
        "df.info() #Sin valores nulos, ningun dato atipico detectable"
      ],
      "metadata": {
        "colab": {
          "base_uri": "https://localhost:8080/"
        },
        "id": "sqg9qMY9o6vF",
        "outputId": "971452b8-fa5b-4f04-c8c2-47a5613b00eb"
      },
      "execution_count": 4,
      "outputs": [
        {
          "output_type": "stream",
          "name": "stdout",
          "text": [
            "<class 'pandas.core.frame.DataFrame'>\n",
            "RangeIndex: 9134 entries, 0 to 9133\n",
            "Data columns (total 24 columns):\n",
            " #   Column                         Non-Null Count  Dtype  \n",
            "---  ------                         --------------  -----  \n",
            " 0   Customer                       9134 non-null   object \n",
            " 1   State                          9134 non-null   object \n",
            " 2   Customer Lifetime Value        9134 non-null   float64\n",
            " 3   Response                       9134 non-null   object \n",
            " 4   Coverage                       9134 non-null   object \n",
            " 5   Education                      9134 non-null   object \n",
            " 6   Effective To Date              9134 non-null   object \n",
            " 7   EmploymentStatus               9134 non-null   object \n",
            " 8   Gender                         9134 non-null   object \n",
            " 9   Income                         9134 non-null   int64  \n",
            " 10  Location Code                  9134 non-null   object \n",
            " 11  Marital Status                 9134 non-null   object \n",
            " 12  Monthly Premium Auto           9134 non-null   int64  \n",
            " 13  Months Since Last Claim        9134 non-null   int64  \n",
            " 14  Months Since Policy Inception  9134 non-null   int64  \n",
            " 15  Number of Open Complaints      9134 non-null   int64  \n",
            " 16  Number of Policies             9134 non-null   int64  \n",
            " 17  Policy Type                    9134 non-null   object \n",
            " 18  Policy                         9134 non-null   object \n",
            " 19  Renew Offer Type               9134 non-null   object \n",
            " 20  Sales Channel                  9134 non-null   object \n",
            " 21  Total Claim Amount             9134 non-null   float64\n",
            " 22  Vehicle Class                  9134 non-null   object \n",
            " 23  Vehicle Size                   9134 non-null   object \n",
            "dtypes: float64(2), int64(6), object(16)\n",
            "memory usage: 1.7+ MB\n"
          ]
        }
      ]
    },
    {
      "cell_type": "code",
      "source": [
        "df.shape"
      ],
      "metadata": {
        "colab": {
          "base_uri": "https://localhost:8080/"
        },
        "id": "MJkcUz_Ao19E",
        "outputId": "422b913e-a1d2-414b-ae36-2510375d5cb6"
      },
      "execution_count": 3,
      "outputs": [
        {
          "output_type": "execute_result",
          "data": {
            "text/plain": [
              "(9134, 24)"
            ]
          },
          "metadata": {},
          "execution_count": 3
        }
      ]
    },
    {
      "cell_type": "code",
      "source": [
        "df.head()"
      ],
      "metadata": {
        "colab": {
          "base_uri": "https://localhost:8080/",
          "height": 345
        },
        "id": "v44atiTmpHqK",
        "outputId": "ae826e78-67d1-4f30-dae0-30225c90180f"
      },
      "execution_count": 6,
      "outputs": [
        {
          "output_type": "execute_result",
          "data": {
            "text/plain": [
              "  Customer       State  Customer Lifetime Value Response  Coverage Education  \\\n",
              "0  BU79786  Washington              2763.519279       No     Basic  Bachelor   \n",
              "1  QZ44356     Arizona              6979.535903       No  Extended  Bachelor   \n",
              "2  AI49188      Nevada             12887.431650       No   Premium  Bachelor   \n",
              "3  WW63253  California              7645.861827       No     Basic  Bachelor   \n",
              "4  HB64268  Washington              2813.692575       No     Basic  Bachelor   \n",
              "\n",
              "  Effective To Date EmploymentStatus Gender  Income Location Code  \\\n",
              "0           2/24/11         Employed      F   56274      Suburban   \n",
              "1           1/31/11       Unemployed      F       0      Suburban   \n",
              "2           2/19/11         Employed      F   48767      Suburban   \n",
              "3           1/20/11       Unemployed      M       0      Suburban   \n",
              "4            2/3/11         Employed      M   43836         Rural   \n",
              "\n",
              "  Marital Status  Monthly Premium Auto  Months Since Last Claim  \\\n",
              "0        Married                    69                       32   \n",
              "1         Single                    94                       13   \n",
              "2        Married                   108                       18   \n",
              "3        Married                   106                       18   \n",
              "4         Single                    73                       12   \n",
              "\n",
              "   Months Since Policy Inception  Number of Open Complaints  \\\n",
              "0                              5                          0   \n",
              "1                             42                          0   \n",
              "2                             38                          0   \n",
              "3                             65                          0   \n",
              "4                             44                          0   \n",
              "\n",
              "   Number of Policies     Policy Type        Policy Renew Offer Type  \\\n",
              "0                   1  Corporate Auto  Corporate L3           Offer1   \n",
              "1                   8   Personal Auto   Personal L3           Offer3   \n",
              "2                   2   Personal Auto   Personal L3           Offer1   \n",
              "3                   7  Corporate Auto  Corporate L2           Offer1   \n",
              "4                   1   Personal Auto   Personal L1           Offer1   \n",
              "\n",
              "  Sales Channel  Total Claim Amount  Vehicle Class Vehicle Size  \n",
              "0         Agent          384.811147   Two-Door Car      Medsize  \n",
              "1         Agent         1131.464935  Four-Door Car      Medsize  \n",
              "2         Agent          566.472247   Two-Door Car      Medsize  \n",
              "3   Call Center          529.881344            SUV      Medsize  \n",
              "4         Agent          138.130879  Four-Door Car      Medsize  "
            ],
            "text/html": [
              "\n",
              "  <div id=\"df-1bf61bb1-3cc1-4e59-9a94-56fbbc6440da\" class=\"colab-df-container\">\n",
              "    <div>\n",
              "<style scoped>\n",
              "    .dataframe tbody tr th:only-of-type {\n",
              "        vertical-align: middle;\n",
              "    }\n",
              "\n",
              "    .dataframe tbody tr th {\n",
              "        vertical-align: top;\n",
              "    }\n",
              "\n",
              "    .dataframe thead th {\n",
              "        text-align: right;\n",
              "    }\n",
              "</style>\n",
              "<table border=\"1\" class=\"dataframe\">\n",
              "  <thead>\n",
              "    <tr style=\"text-align: right;\">\n",
              "      <th></th>\n",
              "      <th>Customer</th>\n",
              "      <th>State</th>\n",
              "      <th>Customer Lifetime Value</th>\n",
              "      <th>Response</th>\n",
              "      <th>Coverage</th>\n",
              "      <th>Education</th>\n",
              "      <th>Effective To Date</th>\n",
              "      <th>EmploymentStatus</th>\n",
              "      <th>Gender</th>\n",
              "      <th>Income</th>\n",
              "      <th>Location Code</th>\n",
              "      <th>Marital Status</th>\n",
              "      <th>Monthly Premium Auto</th>\n",
              "      <th>Months Since Last Claim</th>\n",
              "      <th>Months Since Policy Inception</th>\n",
              "      <th>Number of Open Complaints</th>\n",
              "      <th>Number of Policies</th>\n",
              "      <th>Policy Type</th>\n",
              "      <th>Policy</th>\n",
              "      <th>Renew Offer Type</th>\n",
              "      <th>Sales Channel</th>\n",
              "      <th>Total Claim Amount</th>\n",
              "      <th>Vehicle Class</th>\n",
              "      <th>Vehicle Size</th>\n",
              "    </tr>\n",
              "  </thead>\n",
              "  <tbody>\n",
              "    <tr>\n",
              "      <th>0</th>\n",
              "      <td>BU79786</td>\n",
              "      <td>Washington</td>\n",
              "      <td>2763.519279</td>\n",
              "      <td>No</td>\n",
              "      <td>Basic</td>\n",
              "      <td>Bachelor</td>\n",
              "      <td>2/24/11</td>\n",
              "      <td>Employed</td>\n",
              "      <td>F</td>\n",
              "      <td>56274</td>\n",
              "      <td>Suburban</td>\n",
              "      <td>Married</td>\n",
              "      <td>69</td>\n",
              "      <td>32</td>\n",
              "      <td>5</td>\n",
              "      <td>0</td>\n",
              "      <td>1</td>\n",
              "      <td>Corporate Auto</td>\n",
              "      <td>Corporate L3</td>\n",
              "      <td>Offer1</td>\n",
              "      <td>Agent</td>\n",
              "      <td>384.811147</td>\n",
              "      <td>Two-Door Car</td>\n",
              "      <td>Medsize</td>\n",
              "    </tr>\n",
              "    <tr>\n",
              "      <th>1</th>\n",
              "      <td>QZ44356</td>\n",
              "      <td>Arizona</td>\n",
              "      <td>6979.535903</td>\n",
              "      <td>No</td>\n",
              "      <td>Extended</td>\n",
              "      <td>Bachelor</td>\n",
              "      <td>1/31/11</td>\n",
              "      <td>Unemployed</td>\n",
              "      <td>F</td>\n",
              "      <td>0</td>\n",
              "      <td>Suburban</td>\n",
              "      <td>Single</td>\n",
              "      <td>94</td>\n",
              "      <td>13</td>\n",
              "      <td>42</td>\n",
              "      <td>0</td>\n",
              "      <td>8</td>\n",
              "      <td>Personal Auto</td>\n",
              "      <td>Personal L3</td>\n",
              "      <td>Offer3</td>\n",
              "      <td>Agent</td>\n",
              "      <td>1131.464935</td>\n",
              "      <td>Four-Door Car</td>\n",
              "      <td>Medsize</td>\n",
              "    </tr>\n",
              "    <tr>\n",
              "      <th>2</th>\n",
              "      <td>AI49188</td>\n",
              "      <td>Nevada</td>\n",
              "      <td>12887.431650</td>\n",
              "      <td>No</td>\n",
              "      <td>Premium</td>\n",
              "      <td>Bachelor</td>\n",
              "      <td>2/19/11</td>\n",
              "      <td>Employed</td>\n",
              "      <td>F</td>\n",
              "      <td>48767</td>\n",
              "      <td>Suburban</td>\n",
              "      <td>Married</td>\n",
              "      <td>108</td>\n",
              "      <td>18</td>\n",
              "      <td>38</td>\n",
              "      <td>0</td>\n",
              "      <td>2</td>\n",
              "      <td>Personal Auto</td>\n",
              "      <td>Personal L3</td>\n",
              "      <td>Offer1</td>\n",
              "      <td>Agent</td>\n",
              "      <td>566.472247</td>\n",
              "      <td>Two-Door Car</td>\n",
              "      <td>Medsize</td>\n",
              "    </tr>\n",
              "    <tr>\n",
              "      <th>3</th>\n",
              "      <td>WW63253</td>\n",
              "      <td>California</td>\n",
              "      <td>7645.861827</td>\n",
              "      <td>No</td>\n",
              "      <td>Basic</td>\n",
              "      <td>Bachelor</td>\n",
              "      <td>1/20/11</td>\n",
              "      <td>Unemployed</td>\n",
              "      <td>M</td>\n",
              "      <td>0</td>\n",
              "      <td>Suburban</td>\n",
              "      <td>Married</td>\n",
              "      <td>106</td>\n",
              "      <td>18</td>\n",
              "      <td>65</td>\n",
              "      <td>0</td>\n",
              "      <td>7</td>\n",
              "      <td>Corporate Auto</td>\n",
              "      <td>Corporate L2</td>\n",
              "      <td>Offer1</td>\n",
              "      <td>Call Center</td>\n",
              "      <td>529.881344</td>\n",
              "      <td>SUV</td>\n",
              "      <td>Medsize</td>\n",
              "    </tr>\n",
              "    <tr>\n",
              "      <th>4</th>\n",
              "      <td>HB64268</td>\n",
              "      <td>Washington</td>\n",
              "      <td>2813.692575</td>\n",
              "      <td>No</td>\n",
              "      <td>Basic</td>\n",
              "      <td>Bachelor</td>\n",
              "      <td>2/3/11</td>\n",
              "      <td>Employed</td>\n",
              "      <td>M</td>\n",
              "      <td>43836</td>\n",
              "      <td>Rural</td>\n",
              "      <td>Single</td>\n",
              "      <td>73</td>\n",
              "      <td>12</td>\n",
              "      <td>44</td>\n",
              "      <td>0</td>\n",
              "      <td>1</td>\n",
              "      <td>Personal Auto</td>\n",
              "      <td>Personal L1</td>\n",
              "      <td>Offer1</td>\n",
              "      <td>Agent</td>\n",
              "      <td>138.130879</td>\n",
              "      <td>Four-Door Car</td>\n",
              "      <td>Medsize</td>\n",
              "    </tr>\n",
              "  </tbody>\n",
              "</table>\n",
              "</div>\n",
              "    <div class=\"colab-df-buttons\">\n",
              "\n",
              "  <div class=\"colab-df-container\">\n",
              "    <button class=\"colab-df-convert\" onclick=\"convertToInteractive('df-1bf61bb1-3cc1-4e59-9a94-56fbbc6440da')\"\n",
              "            title=\"Convert this dataframe to an interactive table.\"\n",
              "            style=\"display:none;\">\n",
              "\n",
              "  <svg xmlns=\"http://www.w3.org/2000/svg\" height=\"24px\" viewBox=\"0 -960 960 960\">\n",
              "    <path d=\"M120-120v-720h720v720H120Zm60-500h600v-160H180v160Zm220 220h160v-160H400v160Zm0 220h160v-160H400v160ZM180-400h160v-160H180v160Zm440 0h160v-160H620v160ZM180-180h160v-160H180v160Zm440 0h160v-160H620v160Z\"/>\n",
              "  </svg>\n",
              "    </button>\n",
              "\n",
              "  <style>\n",
              "    .colab-df-container {\n",
              "      display:flex;\n",
              "      gap: 12px;\n",
              "    }\n",
              "\n",
              "    .colab-df-convert {\n",
              "      background-color: #E8F0FE;\n",
              "      border: none;\n",
              "      border-radius: 50%;\n",
              "      cursor: pointer;\n",
              "      display: none;\n",
              "      fill: #1967D2;\n",
              "      height: 32px;\n",
              "      padding: 0 0 0 0;\n",
              "      width: 32px;\n",
              "    }\n",
              "\n",
              "    .colab-df-convert:hover {\n",
              "      background-color: #E2EBFA;\n",
              "      box-shadow: 0px 1px 2px rgba(60, 64, 67, 0.3), 0px 1px 3px 1px rgba(60, 64, 67, 0.15);\n",
              "      fill: #174EA6;\n",
              "    }\n",
              "\n",
              "    .colab-df-buttons div {\n",
              "      margin-bottom: 4px;\n",
              "    }\n",
              "\n",
              "    [theme=dark] .colab-df-convert {\n",
              "      background-color: #3B4455;\n",
              "      fill: #D2E3FC;\n",
              "    }\n",
              "\n",
              "    [theme=dark] .colab-df-convert:hover {\n",
              "      background-color: #434B5C;\n",
              "      box-shadow: 0px 1px 3px 1px rgba(0, 0, 0, 0.15);\n",
              "      filter: drop-shadow(0px 1px 2px rgba(0, 0, 0, 0.3));\n",
              "      fill: #FFFFFF;\n",
              "    }\n",
              "  </style>\n",
              "\n",
              "    <script>\n",
              "      const buttonEl =\n",
              "        document.querySelector('#df-1bf61bb1-3cc1-4e59-9a94-56fbbc6440da button.colab-df-convert');\n",
              "      buttonEl.style.display =\n",
              "        google.colab.kernel.accessAllowed ? 'block' : 'none';\n",
              "\n",
              "      async function convertToInteractive(key) {\n",
              "        const element = document.querySelector('#df-1bf61bb1-3cc1-4e59-9a94-56fbbc6440da');\n",
              "        const dataTable =\n",
              "          await google.colab.kernel.invokeFunction('convertToInteractive',\n",
              "                                                    [key], {});\n",
              "        if (!dataTable) return;\n",
              "\n",
              "        const docLinkHtml = 'Like what you see? Visit the ' +\n",
              "          '<a target=\"_blank\" href=https://colab.research.google.com/notebooks/data_table.ipynb>data table notebook</a>'\n",
              "          + ' to learn more about interactive tables.';\n",
              "        element.innerHTML = '';\n",
              "        dataTable['output_type'] = 'display_data';\n",
              "        await google.colab.output.renderOutput(dataTable, element);\n",
              "        const docLink = document.createElement('div');\n",
              "        docLink.innerHTML = docLinkHtml;\n",
              "        element.appendChild(docLink);\n",
              "      }\n",
              "    </script>\n",
              "  </div>\n",
              "\n",
              "\n",
              "<div id=\"df-a4531bd1-8ac2-4462-8808-67754c1f8c38\">\n",
              "  <button class=\"colab-df-quickchart\" onclick=\"quickchart('df-a4531bd1-8ac2-4462-8808-67754c1f8c38')\"\n",
              "            title=\"Suggest charts\"\n",
              "            style=\"display:none;\">\n",
              "\n",
              "<svg xmlns=\"http://www.w3.org/2000/svg\" height=\"24px\"viewBox=\"0 0 24 24\"\n",
              "     width=\"24px\">\n",
              "    <g>\n",
              "        <path d=\"M19 3H5c-1.1 0-2 .9-2 2v14c0 1.1.9 2 2 2h14c1.1 0 2-.9 2-2V5c0-1.1-.9-2-2-2zM9 17H7v-7h2v7zm4 0h-2V7h2v10zm4 0h-2v-4h2v4z\"/>\n",
              "    </g>\n",
              "</svg>\n",
              "  </button>\n",
              "\n",
              "<style>\n",
              "  .colab-df-quickchart {\n",
              "      --bg-color: #E8F0FE;\n",
              "      --fill-color: #1967D2;\n",
              "      --hover-bg-color: #E2EBFA;\n",
              "      --hover-fill-color: #174EA6;\n",
              "      --disabled-fill-color: #AAA;\n",
              "      --disabled-bg-color: #DDD;\n",
              "  }\n",
              "\n",
              "  [theme=dark] .colab-df-quickchart {\n",
              "      --bg-color: #3B4455;\n",
              "      --fill-color: #D2E3FC;\n",
              "      --hover-bg-color: #434B5C;\n",
              "      --hover-fill-color: #FFFFFF;\n",
              "      --disabled-bg-color: #3B4455;\n",
              "      --disabled-fill-color: #666;\n",
              "  }\n",
              "\n",
              "  .colab-df-quickchart {\n",
              "    background-color: var(--bg-color);\n",
              "    border: none;\n",
              "    border-radius: 50%;\n",
              "    cursor: pointer;\n",
              "    display: none;\n",
              "    fill: var(--fill-color);\n",
              "    height: 32px;\n",
              "    padding: 0;\n",
              "    width: 32px;\n",
              "  }\n",
              "\n",
              "  .colab-df-quickchart:hover {\n",
              "    background-color: var(--hover-bg-color);\n",
              "    box-shadow: 0 1px 2px rgba(60, 64, 67, 0.3), 0 1px 3px 1px rgba(60, 64, 67, 0.15);\n",
              "    fill: var(--button-hover-fill-color);\n",
              "  }\n",
              "\n",
              "  .colab-df-quickchart-complete:disabled,\n",
              "  .colab-df-quickchart-complete:disabled:hover {\n",
              "    background-color: var(--disabled-bg-color);\n",
              "    fill: var(--disabled-fill-color);\n",
              "    box-shadow: none;\n",
              "  }\n",
              "\n",
              "  .colab-df-spinner {\n",
              "    border: 2px solid var(--fill-color);\n",
              "    border-color: transparent;\n",
              "    border-bottom-color: var(--fill-color);\n",
              "    animation:\n",
              "      spin 1s steps(1) infinite;\n",
              "  }\n",
              "\n",
              "  @keyframes spin {\n",
              "    0% {\n",
              "      border-color: transparent;\n",
              "      border-bottom-color: var(--fill-color);\n",
              "      border-left-color: var(--fill-color);\n",
              "    }\n",
              "    20% {\n",
              "      border-color: transparent;\n",
              "      border-left-color: var(--fill-color);\n",
              "      border-top-color: var(--fill-color);\n",
              "    }\n",
              "    30% {\n",
              "      border-color: transparent;\n",
              "      border-left-color: var(--fill-color);\n",
              "      border-top-color: var(--fill-color);\n",
              "      border-right-color: var(--fill-color);\n",
              "    }\n",
              "    40% {\n",
              "      border-color: transparent;\n",
              "      border-right-color: var(--fill-color);\n",
              "      border-top-color: var(--fill-color);\n",
              "    }\n",
              "    60% {\n",
              "      border-color: transparent;\n",
              "      border-right-color: var(--fill-color);\n",
              "    }\n",
              "    80% {\n",
              "      border-color: transparent;\n",
              "      border-right-color: var(--fill-color);\n",
              "      border-bottom-color: var(--fill-color);\n",
              "    }\n",
              "    90% {\n",
              "      border-color: transparent;\n",
              "      border-bottom-color: var(--fill-color);\n",
              "    }\n",
              "  }\n",
              "</style>\n",
              "\n",
              "  <script>\n",
              "    async function quickchart(key) {\n",
              "      const quickchartButtonEl =\n",
              "        document.querySelector('#' + key + ' button');\n",
              "      quickchartButtonEl.disabled = true;  // To prevent multiple clicks.\n",
              "      quickchartButtonEl.classList.add('colab-df-spinner');\n",
              "      try {\n",
              "        const charts = await google.colab.kernel.invokeFunction(\n",
              "            'suggestCharts', [key], {});\n",
              "      } catch (error) {\n",
              "        console.error('Error during call to suggestCharts:', error);\n",
              "      }\n",
              "      quickchartButtonEl.classList.remove('colab-df-spinner');\n",
              "      quickchartButtonEl.classList.add('colab-df-quickchart-complete');\n",
              "    }\n",
              "    (() => {\n",
              "      let quickchartButtonEl =\n",
              "        document.querySelector('#df-a4531bd1-8ac2-4462-8808-67754c1f8c38 button');\n",
              "      quickchartButtonEl.style.display =\n",
              "        google.colab.kernel.accessAllowed ? 'block' : 'none';\n",
              "    })();\n",
              "  </script>\n",
              "</div>\n",
              "\n",
              "    </div>\n",
              "  </div>\n"
            ],
            "application/vnd.google.colaboratory.intrinsic+json": {
              "type": "dataframe",
              "variable_name": "df"
            }
          },
          "metadata": {},
          "execution_count": 6
        }
      ]
    },
    {
      "cell_type": "code",
      "source": [
        "df.columns"
      ],
      "metadata": {
        "colab": {
          "base_uri": "https://localhost:8080/"
        },
        "id": "F3sN51sFyYRV",
        "outputId": "01a05a21-e4c5-4e9d-f5e3-bf73e8d74084"
      },
      "execution_count": 38,
      "outputs": [
        {
          "output_type": "execute_result",
          "data": {
            "text/plain": [
              "Index(['Customer', 'State', 'Customer Lifetime Value', 'Response', 'Coverage',\n",
              "       'Education', 'Effective To Date', 'EmploymentStatus', 'Gender',\n",
              "       'Income', 'Location Code', 'Marital Status', 'Monthly Premium Auto',\n",
              "       'Months Since Last Claim', 'Months Since Policy Inception',\n",
              "       'Number of Open Complaints', 'Number of Policies', 'Policy Type',\n",
              "       'Policy', 'Renew Offer Type', 'Sales Channel', 'Total Claim Amount',\n",
              "       'Vehicle Class', 'Vehicle Size'],\n",
              "      dtype='object')"
            ]
          },
          "metadata": {},
          "execution_count": 38
        }
      ]
    },
    {
      "cell_type": "markdown",
      "metadata": {
        "id": "QfxdKxY6ZHN5"
      },
      "source": [
        "## Paso 2: Análisis del Customer Lifetime Value (CLV)\n",
        "1. Calcula el CLV promedio y su desviación estándar.\n",
        "2. Reflexiona: ¿Qué indica una alta desviación? ¿Podrían existir segmentos de clientes con comportamientos muy distintos?"
      ]
    },
    {
      "cell_type": "code",
      "execution_count": 65,
      "metadata": {
        "id": "BH6qM6SwZHN6",
        "colab": {
          "base_uri": "https://localhost:8080/"
        },
        "outputId": "97e6a089-1095-42e9-a851-2bf51d7132f0"
      },
      "outputs": [
        {
          "output_type": "stream",
          "name": "stdout",
          "text": [
            "Average CLV: 8004.94\n",
            "Standar Dev CLV: 6870.967608356924\n"
          ]
        }
      ],
      "source": [
        "CLVaverage = df['Customer Lifetime Value'].mean().round(2)\n",
        "CLVstd = df['Customer Lifetime Value'].std()\n",
        "print(f\"Average CLV: {CLVaverage}\")\n",
        "print(f\"Standar Dev CLV: {CLVstd}\")"
      ]
    },
    {
      "cell_type": "markdown",
      "source": [
        "## **Una desviacion estandar alta nos indica, que los datos estan dispersos en un rango amplio y no en una media, no hay una concentracion/aglomeraciond de datos significativa.**"
      ],
      "metadata": {
        "id": "y3wG3bLVpmKP"
      }
    },
    {
      "cell_type": "markdown",
      "metadata": {
        "id": "3Dh1dhJ9ZHN6"
      },
      "source": [
        "## Paso 3: Evaluación de la Columna Response\n",
        "1. Usa `value_counts()` para ver cuántos clientes respondieron \"Yes\" y \"No\".\n",
        "2. Calcula el porcentaje de respuestas \"Yes\".\n",
        "\n",
        "Pregunta: ¿La proporción de \"Yes\" es baja? ¿Qué podría indicar esto respecto a la estrategia de respuesta?"
      ]
    },
    {
      "cell_type": "code",
      "execution_count": 13,
      "metadata": {
        "id": "UlKtfgUGZHN7",
        "colab": {
          "base_uri": "https://localhost:8080/"
        },
        "outputId": "8d8a08de-c8a3-4877-e816-ed0ef311ded9"
      },
      "outputs": [
        {
          "output_type": "stream",
          "name": "stdout",
          "text": [
            "Yes: 1308\n",
            "No: 7826\n"
          ]
        }
      ],
      "source": [
        "YesCount = df['Response'].value_counts()['Yes']\n",
        "NoCount = df['Response'].value_counts()['No']\n",
        "print(f\"Yes: {YesCount}\")\n",
        "print(f\"No: {NoCount}\")"
      ]
    },
    {
      "cell_type": "code",
      "source": [
        "YesPercentage = df['Response'].value_counts()['Yes'] / df['Response'].count() * 100\n",
        "print(f\"Yes Percentage: {YesPercentage:.2f}%\")"
      ],
      "metadata": {
        "colab": {
          "base_uri": "https://localhost:8080/"
        },
        "id": "SWqMmAt6rAcV",
        "outputId": "63c03c90-9a5b-4a90-c569-0d796bc71b0a"
      },
      "execution_count": 23,
      "outputs": [
        {
          "output_type": "stream",
          "name": "stdout",
          "text": [
            "Yes Percentage: 14.32%\n"
          ]
        }
      ]
    },
    {
      "cell_type": "markdown",
      "source": [
        "# Una baja tasa en la respuesta del cliente quiere decir que nuestra campaña o nuestro abordaje a ellos puede no ser la correcta"
      ],
      "metadata": {
        "id": "JGMJTX2ctfdT"
      }
    },
    {
      "cell_type": "markdown",
      "metadata": {
        "id": "5Gl7vEKyZHN7"
      },
      "source": [
        "## Paso 4: Análisis de la Prima Mensual (Monthly Premium Auto) por Coverage\n",
        "1. Agrupa los datos por `Coverage` y calcula la media de `Monthly Premium Auto`.\n",
        "2. Compara los promedios obtenidos para cada tipo de Coverage.\n",
        "\n",
        "Pregunta: ¿Existen diferencias notables entre las coberturas? ¿Qué implicaciones tendría esto en la estrategia de precios?"
      ]
    },
    {
      "cell_type": "code",
      "execution_count": 27,
      "metadata": {
        "id": "yzGcyR52ZHN8",
        "colab": {
          "base_uri": "https://localhost:8080/",
          "height": 210
        },
        "outputId": "7ae48274-9837-49f3-9f8e-9f351d1d0b5a"
      },
      "outputs": [
        {
          "output_type": "execute_result",
          "data": {
            "text/plain": [
              "Coverage\n",
              "Basic        82.17\n",
              "Extended    103.58\n",
              "Premium     133.38\n",
              "Name: Monthly Premium Auto, dtype: float64"
            ],
            "text/html": [
              "<div>\n",
              "<style scoped>\n",
              "    .dataframe tbody tr th:only-of-type {\n",
              "        vertical-align: middle;\n",
              "    }\n",
              "\n",
              "    .dataframe tbody tr th {\n",
              "        vertical-align: top;\n",
              "    }\n",
              "\n",
              "    .dataframe thead th {\n",
              "        text-align: right;\n",
              "    }\n",
              "</style>\n",
              "<table border=\"1\" class=\"dataframe\">\n",
              "  <thead>\n",
              "    <tr style=\"text-align: right;\">\n",
              "      <th></th>\n",
              "      <th>Monthly Premium Auto</th>\n",
              "    </tr>\n",
              "    <tr>\n",
              "      <th>Coverage</th>\n",
              "      <th></th>\n",
              "    </tr>\n",
              "  </thead>\n",
              "  <tbody>\n",
              "    <tr>\n",
              "      <th>Basic</th>\n",
              "      <td>82.17</td>\n",
              "    </tr>\n",
              "    <tr>\n",
              "      <th>Extended</th>\n",
              "      <td>103.58</td>\n",
              "    </tr>\n",
              "    <tr>\n",
              "      <th>Premium</th>\n",
              "      <td>133.38</td>\n",
              "    </tr>\n",
              "  </tbody>\n",
              "</table>\n",
              "</div><br><label><b>dtype:</b> float64</label>"
            ]
          },
          "metadata": {},
          "execution_count": 27
        }
      ],
      "source": [
        "CoverageAvg = df.groupby('Coverage')['Monthly Premium Auto'].mean().round(2)\n",
        "CoverageAvg"
      ]
    },
    {
      "cell_type": "markdown",
      "source": [
        "# Hay una diferencia de 51 entre el Monthly premium mas bajo y el mas alto, esto puede indicar que podemos dar un enfoque mayor al premium, indicando mayor revenue para nosotros"
      ],
      "metadata": {
        "id": "_TZnxK5ft_tV"
      }
    },
    {
      "cell_type": "markdown",
      "metadata": {
        "id": "UFsiRIveZHN8"
      },
      "source": [
        "## Paso 5: Análisis del Ingreso (Income) según EmploymentStatus\n",
        "1. Agrupa los datos por `EmploymentStatus` y calcula el ingreso promedio.\n",
        "\n",
        "Pregunta: ¿Qué diferencias encuentras entre los grupos? ¿Cómo podría influir esto en la segmentación de clientes?"
      ]
    },
    {
      "cell_type": "code",
      "execution_count": 29,
      "metadata": {
        "id": "KBd4a5TGZHN9",
        "colab": {
          "base_uri": "https://localhost:8080/",
          "height": 272
        },
        "outputId": "29576a6f-62de-4dc4-ed0d-17277283f5f2"
      },
      "outputs": [
        {
          "output_type": "execute_result",
          "data": {
            "text/plain": [
              "EmploymentStatus\n",
              "Employed         56384.88\n",
              "Retired          20554.96\n",
              "Medical Leave    20292.77\n",
              "Disabled         20045.58\n",
              "Unemployed           0.00\n",
              "Name: Income, dtype: float64"
            ],
            "text/html": [
              "<div>\n",
              "<style scoped>\n",
              "    .dataframe tbody tr th:only-of-type {\n",
              "        vertical-align: middle;\n",
              "    }\n",
              "\n",
              "    .dataframe tbody tr th {\n",
              "        vertical-align: top;\n",
              "    }\n",
              "\n",
              "    .dataframe thead th {\n",
              "        text-align: right;\n",
              "    }\n",
              "</style>\n",
              "<table border=\"1\" class=\"dataframe\">\n",
              "  <thead>\n",
              "    <tr style=\"text-align: right;\">\n",
              "      <th></th>\n",
              "      <th>Income</th>\n",
              "    </tr>\n",
              "    <tr>\n",
              "      <th>EmploymentStatus</th>\n",
              "      <th></th>\n",
              "    </tr>\n",
              "  </thead>\n",
              "  <tbody>\n",
              "    <tr>\n",
              "      <th>Employed</th>\n",
              "      <td>56384.88</td>\n",
              "    </tr>\n",
              "    <tr>\n",
              "      <th>Retired</th>\n",
              "      <td>20554.96</td>\n",
              "    </tr>\n",
              "    <tr>\n",
              "      <th>Medical Leave</th>\n",
              "      <td>20292.77</td>\n",
              "    </tr>\n",
              "    <tr>\n",
              "      <th>Disabled</th>\n",
              "      <td>20045.58</td>\n",
              "    </tr>\n",
              "    <tr>\n",
              "      <th>Unemployed</th>\n",
              "      <td>0.00</td>\n",
              "    </tr>\n",
              "  </tbody>\n",
              "</table>\n",
              "</div><br><label><b>dtype:</b> float64</label>"
            ]
          },
          "metadata": {},
          "execution_count": 29
        }
      ],
      "source": [
        "IncomeAvg = df.groupby('EmploymentStatus')['Income'].mean().round(2).sort_values(ascending=False)\n",
        "IncomeAvg"
      ]
    },
    {
      "cell_type": "markdown",
      "source": [
        "#Podemos manejar una estrategia enfocada a personas empleadas ya que son las que mas income generan, y para los otros grupos ofrecer seguros mas asequibles y que agrupen necesidades especificas como salud para medical leave y ahorro para retired"
      ],
      "metadata": {
        "id": "5680iewkvGbz"
      }
    },
    {
      "cell_type": "markdown",
      "metadata": {
        "id": "opvexkf8ZHN9"
      },
      "source": [
        "## Paso 6: Análisis del CLV por Estado\n",
        "1. Agrupa los datos por `State` y calcula el CLV promedio.\n",
        "\n",
        "Pregunta: ¿Qué estado muestra el mayor CLV? ¿Qué factores regionales podrían explicar esto?"
      ]
    },
    {
      "cell_type": "code",
      "execution_count": 30,
      "metadata": {
        "id": "jHYjEGLXZHN9",
        "colab": {
          "base_uri": "https://localhost:8080/",
          "height": 272
        },
        "outputId": "02223dd3-f238-4b6d-8be0-3e6298b05928"
      },
      "outputs": [
        {
          "output_type": "execute_result",
          "data": {
            "text/plain": [
              "State\n",
              "Oregon        8077.90\n",
              "Nevada        8056.71\n",
              "Washington    8021.47\n",
              "California    8003.65\n",
              "Arizona       7861.34\n",
              "Name: Customer Lifetime Value, dtype: float64"
            ],
            "text/html": [
              "<div>\n",
              "<style scoped>\n",
              "    .dataframe tbody tr th:only-of-type {\n",
              "        vertical-align: middle;\n",
              "    }\n",
              "\n",
              "    .dataframe tbody tr th {\n",
              "        vertical-align: top;\n",
              "    }\n",
              "\n",
              "    .dataframe thead th {\n",
              "        text-align: right;\n",
              "    }\n",
              "</style>\n",
              "<table border=\"1\" class=\"dataframe\">\n",
              "  <thead>\n",
              "    <tr style=\"text-align: right;\">\n",
              "      <th></th>\n",
              "      <th>Customer Lifetime Value</th>\n",
              "    </tr>\n",
              "    <tr>\n",
              "      <th>State</th>\n",
              "      <th></th>\n",
              "    </tr>\n",
              "  </thead>\n",
              "  <tbody>\n",
              "    <tr>\n",
              "      <th>Oregon</th>\n",
              "      <td>8077.90</td>\n",
              "    </tr>\n",
              "    <tr>\n",
              "      <th>Nevada</th>\n",
              "      <td>8056.71</td>\n",
              "    </tr>\n",
              "    <tr>\n",
              "      <th>Washington</th>\n",
              "      <td>8021.47</td>\n",
              "    </tr>\n",
              "    <tr>\n",
              "      <th>California</th>\n",
              "      <td>8003.65</td>\n",
              "    </tr>\n",
              "    <tr>\n",
              "      <th>Arizona</th>\n",
              "      <td>7861.34</td>\n",
              "    </tr>\n",
              "  </tbody>\n",
              "</table>\n",
              "</div><br><label><b>dtype:</b> float64</label>"
            ]
          },
          "metadata": {},
          "execution_count": 30
        }
      ],
      "source": [
        "StateAvg = df.groupby('State')['Customer Lifetime Value'].mean().round(2).sort_values(ascending=False)\n",
        "StateAvg"
      ]
    },
    {
      "cell_type": "markdown",
      "source": [
        "#Oregon podria sugerir que es donde se encuentra nuestra poblacion objeto al representar un CLV mas alto, indicando que es la region que probablemente mas poder adquisitivo tiene"
      ],
      "metadata": {
        "id": "kf0PcmNbvqND"
      }
    },
    {
      "cell_type": "markdown",
      "metadata": {
        "id": "r20lS6w2ZHN9"
      },
      "source": [
        "## Paso 7: Análisis del Total Claim Amount según el Número de Pólizas\n",
        "1. Separa a los clientes con más de 1 póliza de aquellos con 1 sola póliza.\n",
        "2. Calcula el Total Claim Amount promedio para cada grupo.\n",
        "\n",
        "Pregunta: ¿Qué diferencias encuentras y qué podrían indicar respecto al riesgo y comportamiento de reclamaciones?"
      ]
    },
    {
      "cell_type": "code",
      "execution_count": 50,
      "metadata": {
        "id": "oV66YptbZHN9",
        "colab": {
          "base_uri": "https://localhost:8080/"
        },
        "outputId": "28ed6608-dd90-4b43-98a7-42fbdd5d3dbb"
      },
      "outputs": [
        {
          "output_type": "stream",
          "name": "stdout",
          "text": [
            "One policy average: 440.28\n",
            "Multiple policy average: 430.67\n"
          ]
        }
      ],
      "source": [
        "OnePolicy = df[df['Number of Policies'] == 1]['Total Claim Amount'].mean()\n",
        "print(f\"One policy average: {OnePolicy:.2f}\")\n",
        "MultiplePolicy = df[df['Number of Policies'] > 1]['Total Claim Amount'].mean()\n",
        "print(f\"Multiple policy average: {MultiplePolicy:.2f}\")"
      ]
    },
    {
      "cell_type": "markdown",
      "source": [
        "# No hay una diferencia notable entre los dos, por lo que podriamos inferir que sin importar el numero de polizas el monto a reclamar es similar o se mantiene en un mismo rango"
      ],
      "metadata": {
        "id": "ekmcN2bJ0G0w"
      }
    },
    {
      "cell_type": "markdown",
      "metadata": {
        "id": "vtiPHUZiZHN-"
      },
      "source": [
        "## Paso 8: Análisis del CLV según Vehicle Class\n",
        "1. Agrupa los datos por `Vehicle Class` y calcula el CLV promedio para cada clase.\n",
        "\n",
        "Pregunta: ¿Qué clase de vehículo se asocia a un mayor CLV y qué implicaciones podría tener esto en la estrategia de producto?"
      ]
    },
    {
      "cell_type": "code",
      "execution_count": 32,
      "metadata": {
        "id": "LdzNouGbZHN-",
        "colab": {
          "base_uri": "https://localhost:8080/",
          "height": 304
        },
        "outputId": "fe643012-95a2-46c6-e2d1-0fed0fa0b3c6"
      },
      "outputs": [
        {
          "output_type": "execute_result",
          "data": {
            "text/plain": [
              "Vehicle Class\n",
              "Luxury SUV       17123.00\n",
              "Luxury Car       17053.35\n",
              "Sports Car       10750.99\n",
              "SUV              10443.51\n",
              "Two-Door Car      6671.03\n",
              "Four-Door Car     6631.73\n",
              "Name: Customer Lifetime Value, dtype: float64"
            ],
            "text/html": [
              "<div>\n",
              "<style scoped>\n",
              "    .dataframe tbody tr th:only-of-type {\n",
              "        vertical-align: middle;\n",
              "    }\n",
              "\n",
              "    .dataframe tbody tr th {\n",
              "        vertical-align: top;\n",
              "    }\n",
              "\n",
              "    .dataframe thead th {\n",
              "        text-align: right;\n",
              "    }\n",
              "</style>\n",
              "<table border=\"1\" class=\"dataframe\">\n",
              "  <thead>\n",
              "    <tr style=\"text-align: right;\">\n",
              "      <th></th>\n",
              "      <th>Customer Lifetime Value</th>\n",
              "    </tr>\n",
              "    <tr>\n",
              "      <th>Vehicle Class</th>\n",
              "      <th></th>\n",
              "    </tr>\n",
              "  </thead>\n",
              "  <tbody>\n",
              "    <tr>\n",
              "      <th>Luxury SUV</th>\n",
              "      <td>17123.00</td>\n",
              "    </tr>\n",
              "    <tr>\n",
              "      <th>Luxury Car</th>\n",
              "      <td>17053.35</td>\n",
              "    </tr>\n",
              "    <tr>\n",
              "      <th>Sports Car</th>\n",
              "      <td>10750.99</td>\n",
              "    </tr>\n",
              "    <tr>\n",
              "      <th>SUV</th>\n",
              "      <td>10443.51</td>\n",
              "    </tr>\n",
              "    <tr>\n",
              "      <th>Two-Door Car</th>\n",
              "      <td>6671.03</td>\n",
              "    </tr>\n",
              "    <tr>\n",
              "      <th>Four-Door Car</th>\n",
              "      <td>6631.73</td>\n",
              "    </tr>\n",
              "  </tbody>\n",
              "</table>\n",
              "</div><br><label><b>dtype:</b> float64</label>"
            ]
          },
          "metadata": {},
          "execution_count": 32
        }
      ],
      "source": [
        "VehicleClassAvg = df.groupby('Vehicle Class')['Customer Lifetime Value'].mean().round(2).sort_values(ascending=False)\n",
        "VehicleClassAvg"
      ]
    },
    {
      "cell_type": "markdown",
      "source": [
        "# Podriamos enfocar nuestra estrategia a los consecionarios que ofrecen Luxury SUVs para aliarnos con ellos y llegar a este publico objetivo"
      ],
      "metadata": {
        "id": "66ISw5O3w56W"
      }
    },
    {
      "cell_type": "markdown",
      "metadata": {
        "id": "VCd_L8qhZHN-"
      },
      "source": [
        "## Paso 9: Análisis de Months Since Last Claim según Education\n",
        "1. Agrupa los datos por `Education` y calcula el promedio de `Months Since Last Claim`.\n",
        "\n",
        "Pregunta: ¿Existen diferencias notables entre los niveles educativos? ¿Qué podría indicar sobre la gestión de reclamos?"
      ]
    },
    {
      "cell_type": "code",
      "execution_count": 51,
      "metadata": {
        "id": "D7AIwvBOZHN-",
        "colab": {
          "base_uri": "https://localhost:8080/",
          "height": 272
        },
        "outputId": "5dd2a188-7651-472d-c5c9-4c225d18ba6d"
      },
      "outputs": [
        {
          "output_type": "execute_result",
          "data": {
            "text/plain": [
              "Education\n",
              "College                 15.43\n",
              "Doctor                  15.26\n",
              "Master                  15.20\n",
              "High School or Below    14.98\n",
              "Bachelor                14.83\n",
              "Name: Months Since Last Claim, dtype: float64"
            ],
            "text/html": [
              "<div>\n",
              "<style scoped>\n",
              "    .dataframe tbody tr th:only-of-type {\n",
              "        vertical-align: middle;\n",
              "    }\n",
              "\n",
              "    .dataframe tbody tr th {\n",
              "        vertical-align: top;\n",
              "    }\n",
              "\n",
              "    .dataframe thead th {\n",
              "        text-align: right;\n",
              "    }\n",
              "</style>\n",
              "<table border=\"1\" class=\"dataframe\">\n",
              "  <thead>\n",
              "    <tr style=\"text-align: right;\">\n",
              "      <th></th>\n",
              "      <th>Months Since Last Claim</th>\n",
              "    </tr>\n",
              "    <tr>\n",
              "      <th>Education</th>\n",
              "      <th></th>\n",
              "    </tr>\n",
              "  </thead>\n",
              "  <tbody>\n",
              "    <tr>\n",
              "      <th>College</th>\n",
              "      <td>15.43</td>\n",
              "    </tr>\n",
              "    <tr>\n",
              "      <th>Doctor</th>\n",
              "      <td>15.26</td>\n",
              "    </tr>\n",
              "    <tr>\n",
              "      <th>Master</th>\n",
              "      <td>15.20</td>\n",
              "    </tr>\n",
              "    <tr>\n",
              "      <th>High School or Below</th>\n",
              "      <td>14.98</td>\n",
              "    </tr>\n",
              "    <tr>\n",
              "      <th>Bachelor</th>\n",
              "      <td>14.83</td>\n",
              "    </tr>\n",
              "  </tbody>\n",
              "</table>\n",
              "</div><br><label><b>dtype:</b> float64</label>"
            ]
          },
          "metadata": {},
          "execution_count": 51
        }
      ],
      "source": [
        "EducationAvg = df.groupby('Education')['Months Since Last Claim'].mean().round(2).sort_values(ascending=False)\n",
        "EducationAvg"
      ]
    },
    {
      "cell_type": "markdown",
      "source": [
        "# No hay diferencia notable, con diferencia de un aprox un mes entre el valor maximo y valor minimo, que nuestros clientes no tengan reclamos hace 14-15 meses indica muy buena gestion de nuestros reclamos"
      ],
      "metadata": {
        "id": "Kr4aQSXR06ND"
      }
    },
    {
      "cell_type": "markdown",
      "metadata": {
        "id": "cQfegNw8ZHN-"
      },
      "source": [
        "## Paso 10: Análisis del Income según Marital Status y Gender\n",
        "1. Realiza una segmentación cruzada agrupando por `Marital Status` y `Gender` para calcular el ingreso promedio.\n",
        "\n",
        "Pregunta: ¿Qué diferencias observas? ¿Cómo podrían influir estas diferencias en la estrategia de segmentación de clientes?"
      ]
    },
    {
      "cell_type": "code",
      "execution_count": 52,
      "metadata": {
        "id": "ZlHKlPVjZHN-",
        "colab": {
          "base_uri": "https://localhost:8080/",
          "height": 304
        },
        "outputId": "4131cd21-5dce-473c-cf94-0547b62a074c"
      },
      "outputs": [
        {
          "output_type": "execute_result",
          "data": {
            "text/plain": [
              "Marital Status  Gender\n",
              "Divorced        F         37913.71\n",
              "                M         43681.93\n",
              "Married         F         44276.99\n",
              "                M         43304.11\n",
              "Single          F         23573.76\n",
              "                M         22005.78\n",
              "Name: Income, dtype: float64"
            ],
            "text/html": [
              "<div>\n",
              "<style scoped>\n",
              "    .dataframe tbody tr th:only-of-type {\n",
              "        vertical-align: middle;\n",
              "    }\n",
              "\n",
              "    .dataframe tbody tr th {\n",
              "        vertical-align: top;\n",
              "    }\n",
              "\n",
              "    .dataframe thead th {\n",
              "        text-align: right;\n",
              "    }\n",
              "</style>\n",
              "<table border=\"1\" class=\"dataframe\">\n",
              "  <thead>\n",
              "    <tr style=\"text-align: right;\">\n",
              "      <th></th>\n",
              "      <th></th>\n",
              "      <th>Income</th>\n",
              "    </tr>\n",
              "    <tr>\n",
              "      <th>Marital Status</th>\n",
              "      <th>Gender</th>\n",
              "      <th></th>\n",
              "    </tr>\n",
              "  </thead>\n",
              "  <tbody>\n",
              "    <tr>\n",
              "      <th rowspan=\"2\" valign=\"top\">Divorced</th>\n",
              "      <th>F</th>\n",
              "      <td>37913.71</td>\n",
              "    </tr>\n",
              "    <tr>\n",
              "      <th>M</th>\n",
              "      <td>43681.93</td>\n",
              "    </tr>\n",
              "    <tr>\n",
              "      <th rowspan=\"2\" valign=\"top\">Married</th>\n",
              "      <th>F</th>\n",
              "      <td>44276.99</td>\n",
              "    </tr>\n",
              "    <tr>\n",
              "      <th>M</th>\n",
              "      <td>43304.11</td>\n",
              "    </tr>\n",
              "    <tr>\n",
              "      <th rowspan=\"2\" valign=\"top\">Single</th>\n",
              "      <th>F</th>\n",
              "      <td>23573.76</td>\n",
              "    </tr>\n",
              "    <tr>\n",
              "      <th>M</th>\n",
              "      <td>22005.78</td>\n",
              "    </tr>\n",
              "  </tbody>\n",
              "</table>\n",
              "</div><br><label><b>dtype:</b> float64</label>"
            ]
          },
          "metadata": {},
          "execution_count": 52
        }
      ],
      "source": [
        "MaritalGenderAvg = df.groupby(['Marital Status', 'Gender'])['Income'].mean().round(2)\n",
        "MaritalGenderAvg"
      ]
    },
    {
      "cell_type": "markdown",
      "source": [
        "# Nuestros clientes con mayor income promedio son hombres casados, podriamos ofertar estrategias que se afinen a ellos, relacionados con temas familiares por ejemplo, y las personas solteras no serian prioridad en este caso"
      ],
      "metadata": {
        "id": "rPDNvAop1g-g"
      }
    },
    {
      "cell_type": "markdown",
      "metadata": {
        "id": "qbvaFaJqZHN-"
      },
      "source": [
        "## Paso 11: Distribución de la Columna Response\n",
        "1. Usa `value_counts()` para mostrar cuántos clientes hay en cada grupo de Response.\n",
        "\n",
        "Pregunta: ¿La distribución de respuestas sugiere que se debe ajustar la estrategia de comunicación?"
      ]
    },
    {
      "cell_type": "code",
      "execution_count": 53,
      "metadata": {
        "id": "p5KLnw5oZHN-",
        "colab": {
          "base_uri": "https://localhost:8080/",
          "height": 178
        },
        "outputId": "f334578f-99a4-4d27-8303-9917eaa23f55"
      },
      "outputs": [
        {
          "output_type": "execute_result",
          "data": {
            "text/plain": [
              "Response\n",
              "No     7826\n",
              "Yes    1308\n",
              "Name: count, dtype: int64"
            ],
            "text/html": [
              "<div>\n",
              "<style scoped>\n",
              "    .dataframe tbody tr th:only-of-type {\n",
              "        vertical-align: middle;\n",
              "    }\n",
              "\n",
              "    .dataframe tbody tr th {\n",
              "        vertical-align: top;\n",
              "    }\n",
              "\n",
              "    .dataframe thead th {\n",
              "        text-align: right;\n",
              "    }\n",
              "</style>\n",
              "<table border=\"1\" class=\"dataframe\">\n",
              "  <thead>\n",
              "    <tr style=\"text-align: right;\">\n",
              "      <th></th>\n",
              "      <th>count</th>\n",
              "    </tr>\n",
              "    <tr>\n",
              "      <th>Response</th>\n",
              "      <th></th>\n",
              "    </tr>\n",
              "  </thead>\n",
              "  <tbody>\n",
              "    <tr>\n",
              "      <th>No</th>\n",
              "      <td>7826</td>\n",
              "    </tr>\n",
              "    <tr>\n",
              "      <th>Yes</th>\n",
              "      <td>1308</td>\n",
              "    </tr>\n",
              "  </tbody>\n",
              "</table>\n",
              "</div><br><label><b>dtype:</b> int64</label>"
            ]
          },
          "metadata": {},
          "execution_count": 53
        }
      ],
      "source": [
        "ResponseGroup = df['Response'].value_counts()\n",
        "ResponseGroup"
      ]
    },
    {
      "cell_type": "markdown",
      "source": [
        "# Si lo sugiere, nuestra comunicacion no esta siendo efectiva ya que solo el 14% de nuestros clientes estan siendo alcanzados actualmente"
      ],
      "metadata": {
        "id": "stn8hMv42Bz0"
      }
    },
    {
      "cell_type": "markdown",
      "metadata": {
        "id": "R6SPMEuMZHN_"
      },
      "source": [
        "## Paso 12: Análisis de Quejas Abiertas por Coverage\n",
        "1. Agrupa los datos por `Coverage` y calcula el número promedio de quejas abiertas (`Number of Open Complaints`).\n",
        "\n",
        "Pregunta: ¿Existen coberturas con un número de quejas significativamente mayor? ¿Qué acciones se podrían tomar?"
      ]
    },
    {
      "cell_type": "code",
      "execution_count": 55,
      "metadata": {
        "id": "6rIalm7TZHN_",
        "colab": {
          "base_uri": "https://localhost:8080/",
          "height": 210
        },
        "outputId": "303223f5-4623-4085-e86e-7a9583bee99e"
      },
      "outputs": [
        {
          "output_type": "execute_result",
          "data": {
            "text/plain": [
              "Coverage\n",
              "Extended    0.40\n",
              "Basic       0.38\n",
              "Premium     0.33\n",
              "Name: Number of Open Complaints, dtype: float64"
            ],
            "text/html": [
              "<div>\n",
              "<style scoped>\n",
              "    .dataframe tbody tr th:only-of-type {\n",
              "        vertical-align: middle;\n",
              "    }\n",
              "\n",
              "    .dataframe tbody tr th {\n",
              "        vertical-align: top;\n",
              "    }\n",
              "\n",
              "    .dataframe thead th {\n",
              "        text-align: right;\n",
              "    }\n",
              "</style>\n",
              "<table border=\"1\" class=\"dataframe\">\n",
              "  <thead>\n",
              "    <tr style=\"text-align: right;\">\n",
              "      <th></th>\n",
              "      <th>Number of Open Complaints</th>\n",
              "    </tr>\n",
              "    <tr>\n",
              "      <th>Coverage</th>\n",
              "      <th></th>\n",
              "    </tr>\n",
              "  </thead>\n",
              "  <tbody>\n",
              "    <tr>\n",
              "      <th>Extended</th>\n",
              "      <td>0.40</td>\n",
              "    </tr>\n",
              "    <tr>\n",
              "      <th>Basic</th>\n",
              "      <td>0.38</td>\n",
              "    </tr>\n",
              "    <tr>\n",
              "      <th>Premium</th>\n",
              "      <td>0.33</td>\n",
              "    </tr>\n",
              "  </tbody>\n",
              "</table>\n",
              "</div><br><label><b>dtype:</b> float64</label>"
            ]
          },
          "metadata": {},
          "execution_count": 55
        }
      ],
      "source": [
        "CoverageAvg = df.groupby('Coverage')['Number of Open Complaints'].mean().round(2).sort_values(ascending=False)\n",
        "CoverageAvg"
      ]
    },
    {
      "cell_type": "markdown",
      "source": [
        "# No hay coberturas con diferencia significativa, lo que nos sugiere que no hay una correlacion entre las quejas y el tipo de cobertura, en general hay quejas similares siendo la cobertura extendida la que tiene mas quejas"
      ],
      "metadata": {
        "id": "Y-a4eGPD2WFs"
      }
    },
    {
      "cell_type": "markdown",
      "metadata": {
        "id": "d7wQ2NncZHN_"
      },
      "source": [
        "## Paso 13: Análisis de la Antigüedad de las Pólizas según EmploymentStatus\n",
        "1. Agrupa por `EmploymentStatus` y calcula el promedio de `Months Since Policy Inception`.\n",
        "\n",
        "Pregunta: ¿Existe alguna relación entre el estado laboral y la antigüedad de las pólizas? ¿Qué podría implicar esto en la estabilidad del cliente?"
      ]
    },
    {
      "cell_type": "code",
      "execution_count": 56,
      "metadata": {
        "id": "3DvT3EAnZHN_",
        "colab": {
          "base_uri": "https://localhost:8080/",
          "height": 272
        },
        "outputId": "27bda461-9d5d-458c-a0fd-0a35ebf8ef70"
      },
      "outputs": [
        {
          "output_type": "execute_result",
          "data": {
            "text/plain": [
              "EmploymentStatus\n",
              "Unemployed       48.75\n",
              "Retired          48.53\n",
              "Medical Leave    48.14\n",
              "Employed         47.80\n",
              "Disabled         47.47\n",
              "Name: Months Since Policy Inception, dtype: float64"
            ],
            "text/html": [
              "<div>\n",
              "<style scoped>\n",
              "    .dataframe tbody tr th:only-of-type {\n",
              "        vertical-align: middle;\n",
              "    }\n",
              "\n",
              "    .dataframe tbody tr th {\n",
              "        vertical-align: top;\n",
              "    }\n",
              "\n",
              "    .dataframe thead th {\n",
              "        text-align: right;\n",
              "    }\n",
              "</style>\n",
              "<table border=\"1\" class=\"dataframe\">\n",
              "  <thead>\n",
              "    <tr style=\"text-align: right;\">\n",
              "      <th></th>\n",
              "      <th>Months Since Policy Inception</th>\n",
              "    </tr>\n",
              "    <tr>\n",
              "      <th>EmploymentStatus</th>\n",
              "      <th></th>\n",
              "    </tr>\n",
              "  </thead>\n",
              "  <tbody>\n",
              "    <tr>\n",
              "      <th>Unemployed</th>\n",
              "      <td>48.75</td>\n",
              "    </tr>\n",
              "    <tr>\n",
              "      <th>Retired</th>\n",
              "      <td>48.53</td>\n",
              "    </tr>\n",
              "    <tr>\n",
              "      <th>Medical Leave</th>\n",
              "      <td>48.14</td>\n",
              "    </tr>\n",
              "    <tr>\n",
              "      <th>Employed</th>\n",
              "      <td>47.80</td>\n",
              "    </tr>\n",
              "    <tr>\n",
              "      <th>Disabled</th>\n",
              "      <td>47.47</td>\n",
              "    </tr>\n",
              "  </tbody>\n",
              "</table>\n",
              "</div><br><label><b>dtype:</b> float64</label>"
            ]
          },
          "metadata": {},
          "execution_count": 56
        }
      ],
      "source": [
        "EmploymentStatusAvg = df.groupby('EmploymentStatus')['Months Since Policy Inception'].mean().round(2).sort_values(ascending=False)\n",
        "EmploymentStatusAvg"
      ]
    },
    {
      "cell_type": "markdown",
      "source": [
        "# Si bien no es una diferencia muy grande, los desempleados son los que mas antiguedad en sus polizas tienen, lo cual es de esperar ya que estas personas no tienen income, hablando desde antiguedad del cliente los desemplados son nuestro publico objetivo"
      ],
      "metadata": {
        "id": "HWyHP0I63a26"
      }
    },
    {
      "cell_type": "markdown",
      "metadata": {
        "id": "S_pRUmAsZHN_"
      },
      "source": [
        "## Paso 14: Análisis del Total Claim Amount según Policy Type\n",
        "1. Agrupa por `Policy Type` y calcula el Total Claim Amount promedio para cada tipo de póliza.\n",
        "\n",
        "Pregunta: ¿Qué diferencias se observan entre los tipos de póliza y qué podrían implicar en términos de riesgo y eficiencia operativa?"
      ]
    },
    {
      "cell_type": "code",
      "execution_count": 57,
      "metadata": {
        "id": "0q5ZwE_jZHN_",
        "colab": {
          "base_uri": "https://localhost:8080/",
          "height": 210
        },
        "outputId": "c537afd2-47ee-449d-dc76-14cb8cc80c61"
      },
      "outputs": [
        {
          "output_type": "execute_result",
          "data": {
            "text/plain": [
              "Policy Type\n",
              "Special Auto      440.47\n",
              "Personal Auto     434.83\n",
              "Corporate Auto    430.31\n",
              "Name: Total Claim Amount, dtype: float64"
            ],
            "text/html": [
              "<div>\n",
              "<style scoped>\n",
              "    .dataframe tbody tr th:only-of-type {\n",
              "        vertical-align: middle;\n",
              "    }\n",
              "\n",
              "    .dataframe tbody tr th {\n",
              "        vertical-align: top;\n",
              "    }\n",
              "\n",
              "    .dataframe thead th {\n",
              "        text-align: right;\n",
              "    }\n",
              "</style>\n",
              "<table border=\"1\" class=\"dataframe\">\n",
              "  <thead>\n",
              "    <tr style=\"text-align: right;\">\n",
              "      <th></th>\n",
              "      <th>Total Claim Amount</th>\n",
              "    </tr>\n",
              "    <tr>\n",
              "      <th>Policy Type</th>\n",
              "      <th></th>\n",
              "    </tr>\n",
              "  </thead>\n",
              "  <tbody>\n",
              "    <tr>\n",
              "      <th>Special Auto</th>\n",
              "      <td>440.47</td>\n",
              "    </tr>\n",
              "    <tr>\n",
              "      <th>Personal Auto</th>\n",
              "      <td>434.83</td>\n",
              "    </tr>\n",
              "    <tr>\n",
              "      <th>Corporate Auto</th>\n",
              "      <td>430.31</td>\n",
              "    </tr>\n",
              "  </tbody>\n",
              "</table>\n",
              "</div><br><label><b>dtype:</b> float64</label>"
            ]
          },
          "metadata": {},
          "execution_count": 57
        }
      ],
      "source": [
        "PolicyTypeAvg = df.groupby('Policy Type')['Total Claim Amount'].mean().round(2).sort_values(ascending=False)\n",
        "PolicyTypeAvg"
      ]
    },
    {
      "cell_type": "markdown",
      "source": [
        "# Los autos especiales tienen un monto mayor de reclamos, podriamos reducir nuestra cobertura a este tipo de autos o tener un monitoreo mayor ya que mas riesgo nos representan"
      ],
      "metadata": {
        "id": "PBCf0iSZ4R7e"
      }
    },
    {
      "cell_type": "markdown",
      "metadata": {
        "id": "dv45Mm6LZHN_"
      },
      "source": [
        "## Caso de Negocio: Evaluación de la Inversión en Marketing\n",
        "\n",
        "### Contexto:\n",
        "Una compañía de seguros ha asignado un presupuesto ficticio de **$5,000,000** para campañas de adquisición. El objetivo es evaluar la rentabilidad de la inversión comparando el gasto de marketing ( 50000000) (CAC) con el Customer Lifetime Value (CLV) obtenido.\n",
        "\n",
        "### Tareas:\n",
        "1. Utiliza el CLV promedio obtenido en el Paso 2.\n",
        "2. Calcula el CAC promedio dividiendo el presupuesto de marketing entre el número total de clientes.\n",
        "3. Compara el CAC promedio con el CLV promedio y responde:\n",
        "   - ¿El CAC es inferior al CLV, lo que justificaría la inversión?\n",
        "   - ¿Qué porcentaje del CLV representa el CAC?\n",
        "\n",
        "_Reflexión estratégica: Si el CAC es significativamente menor que el CLV, la inversión en marketing es rentable. De lo contrario, se deberá replantear la estrategia de adquisición._"
      ]
    },
    {
      "cell_type": "code",
      "source": [
        "CLVaverage = df['Customer Lifetime Value'].mean().round(2)\n",
        "CLVaverage #CLV del paso 2"
      ],
      "metadata": {
        "id": "RBRUwb8OcE9P",
        "colab": {
          "base_uri": "https://localhost:8080/"
        },
        "outputId": "3329ff6d-8776-45df-8105-d4eb45b26394"
      },
      "execution_count": 67,
      "outputs": [
        {
          "output_type": "execute_result",
          "data": {
            "text/plain": [
              "8004.94"
            ]
          },
          "metadata": {},
          "execution_count": 67
        }
      ]
    },
    {
      "cell_type": "code",
      "source": [
        "CACavg = 5000000 / df['Customer'].count() #Average CAC\n",
        "CACavg.round(2)"
      ],
      "metadata": {
        "id": "x0huXHVpcE5y",
        "colab": {
          "base_uri": "https://localhost:8080/"
        },
        "outputId": "13523857-205c-4f05-ddf1-45a51a6672bc"
      },
      "execution_count": 73,
      "outputs": [
        {
          "output_type": "execute_result",
          "data": {
            "text/plain": [
              "547.41"
            ]
          },
          "metadata": {},
          "execution_count": 73
        }
      ]
    },
    {
      "cell_type": "markdown",
      "source": [
        "# CLV promedio: 8004.94 vs CAC promedio: 547.41"
      ],
      "metadata": {
        "id": "mHJLFWfp6ZJU"
      }
    },
    {
      "cell_type": "markdown",
      "source": [
        "Nuestro CAC es mucho mas bajo que nuestro CLV lo que indica que nuestra inversion es totalmente rentable"
      ],
      "metadata": {
        "id": "PLMRmhT76jxT"
      }
    },
    {
      "cell_type": "code",
      "source": [
        "CLVvsCAC = (CACavg / CLVaverage) * 100\n",
        "print(f' El CAC representa el {CLVvsCAC:.2f} del CLV%')"
      ],
      "metadata": {
        "id": "LwTjvOmAcHhU",
        "colab": {
          "base_uri": "https://localhost:8080/"
        },
        "outputId": "4c82a543-2194-4f3e-e597-e0516c74621f"
      },
      "execution_count": 80,
      "outputs": [
        {
          "output_type": "stream",
          "name": "stdout",
          "text": [
            " El CAC representa el 6.84 del CLV%\n"
          ]
        }
      ]
    },
    {
      "cell_type": "markdown",
      "source": [
        "### **Bonus:** Teniendo lo anterior en cual es la proporcion de clientes rentables"
      ],
      "metadata": {
        "id": "jxs59vjXa7RK"
      }
    },
    {
      "cell_type": "code",
      "source": [],
      "metadata": {
        "id": "t9RTzcoIazea"
      },
      "execution_count": 51,
      "outputs": []
    },
    {
      "cell_type": "markdown",
      "metadata": {
        "id": "ICF1oz4cZHN_"
      },
      "source": [
        "## Conclusiones y Recomendaciones\n",
        "\n",
        "### **Bonus 2:** En no más de un parrafo mencione 3 acciones concretas para mejorar los reusltados de la empresa.\n"
      ]
    },
    {
      "cell_type": "code",
      "source": [],
      "metadata": {
        "id": "N6IpeZWgcb2F"
      },
      "execution_count": 51,
      "outputs": []
    }
  ],
  "metadata": {
    "colab": {
      "provenance": [],
      "collapsed_sections": [
        "jxs59vjXa7RK",
        "ICF1oz4cZHN_"
      ]
    },
    "kernelspec": {
      "display_name": "Python 3",
      "language": "python",
      "name": "python3"
    },
    "language_info": {
      "name": "python"
    }
  },
  "nbformat": 4,
  "nbformat_minor": 0
}